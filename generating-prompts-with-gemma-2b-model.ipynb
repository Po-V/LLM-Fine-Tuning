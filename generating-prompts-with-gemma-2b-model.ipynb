{
 "cells": [
  {
   "cell_type": "markdown",
   "id": "48e77d77",
   "metadata": {
    "papermill": {
     "duration": 0.005607,
     "end_time": "2024-04-20T17:04:30.579428",
     "exception": false,
     "start_time": "2024-04-20T17:04:30.573821",
     "status": "completed"
    },
    "tags": []
   },
   "source": [
    "Competition information: https://www.kaggle.com/competitions/llm-prompt-recovery/overview\n",
    "\n",
    "The goal of this competition is to recover the LLM prompt that was used to transform a given text. We are given original sample text and a rewritten text and we need to determine the prompt that was used to cobvert the original text to rewritten text. "
   ]
  },
  {
   "cell_type": "code",
   "execution_count": 1,
   "id": "9e59ef25",
   "metadata": {
    "execution": {
     "iopub.execute_input": "2024-04-20T17:04:30.591116Z",
     "iopub.status.busy": "2024-04-20T17:04:30.590823Z",
     "iopub.status.idle": "2024-04-20T17:04:31.809272Z",
     "shell.execute_reply": "2024-04-20T17:04:31.808529Z"
    },
    "papermill": {
     "duration": 1.226688,
     "end_time": "2024-04-20T17:04:31.811436",
     "exception": false,
     "start_time": "2024-04-20T17:04:30.584748",
     "status": "completed"
    },
    "tags": []
   },
   "outputs": [],
   "source": [
    "# imports \n",
    "\n",
    "import pandas as pd\n",
    "import numpy as np\n",
    "import random"
   ]
  },
  {
   "cell_type": "code",
   "execution_count": 2,
   "id": "c7db4e90",
   "metadata": {
    "execution": {
     "iopub.execute_input": "2024-04-20T17:04:31.824374Z",
     "iopub.status.busy": "2024-04-20T17:04:31.824010Z",
     "iopub.status.idle": "2024-04-20T17:04:33.798126Z",
     "shell.execute_reply": "2024-04-20T17:04:33.797327Z"
    },
    "papermill": {
     "duration": 1.982728,
     "end_time": "2024-04-20T17:04:33.800379",
     "exception": false,
     "start_time": "2024-04-20T17:04:31.817651",
     "status": "completed"
    },
    "tags": []
   },
   "outputs": [],
   "source": [
    "# loading the data \n",
    "\n",
    "movie_plots = pd.read_csv('/kaggle/input/wikipedia-movie-plots/wiki_movie_plots_deduped.csv')"
   ]
  },
  {
   "cell_type": "code",
   "execution_count": 3,
   "id": "ccfb0565",
   "metadata": {
    "execution": {
     "iopub.execute_input": "2024-04-20T17:04:33.812478Z",
     "iopub.status.busy": "2024-04-20T17:04:33.811988Z",
     "iopub.status.idle": "2024-04-20T17:04:33.830651Z",
     "shell.execute_reply": "2024-04-20T17:04:33.829854Z"
    },
    "papermill": {
     "duration": 0.026768,
     "end_time": "2024-04-20T17:04:33.832680",
     "exception": false,
     "start_time": "2024-04-20T17:04:33.805912",
     "status": "completed"
    },
    "tags": []
   },
   "outputs": [
    {
     "data": {
      "text/html": [
       "<div>\n",
       "<style scoped>\n",
       "    .dataframe tbody tr th:only-of-type {\n",
       "        vertical-align: middle;\n",
       "    }\n",
       "\n",
       "    .dataframe tbody tr th {\n",
       "        vertical-align: top;\n",
       "    }\n",
       "\n",
       "    .dataframe thead th {\n",
       "        text-align: right;\n",
       "    }\n",
       "</style>\n",
       "<table border=\"1\" class=\"dataframe\">\n",
       "  <thead>\n",
       "    <tr style=\"text-align: right;\">\n",
       "      <th></th>\n",
       "      <th>Release Year</th>\n",
       "      <th>Title</th>\n",
       "      <th>Origin/Ethnicity</th>\n",
       "      <th>Director</th>\n",
       "      <th>Cast</th>\n",
       "      <th>Genre</th>\n",
       "      <th>Wiki Page</th>\n",
       "      <th>Plot</th>\n",
       "    </tr>\n",
       "  </thead>\n",
       "  <tbody>\n",
       "    <tr>\n",
       "      <th>0</th>\n",
       "      <td>1901</td>\n",
       "      <td>Kansas Saloon Smashers</td>\n",
       "      <td>American</td>\n",
       "      <td>Unknown</td>\n",
       "      <td>NaN</td>\n",
       "      <td>unknown</td>\n",
       "      <td>https://en.wikipedia.org/wiki/Kansas_Saloon_Sm...</td>\n",
       "      <td>A bartender is working at a saloon, serving dr...</td>\n",
       "    </tr>\n",
       "    <tr>\n",
       "      <th>1</th>\n",
       "      <td>1901</td>\n",
       "      <td>Love by the Light of the Moon</td>\n",
       "      <td>American</td>\n",
       "      <td>Unknown</td>\n",
       "      <td>NaN</td>\n",
       "      <td>unknown</td>\n",
       "      <td>https://en.wikipedia.org/wiki/Love_by_the_Ligh...</td>\n",
       "      <td>The moon, painted with a smiling face hangs ov...</td>\n",
       "    </tr>\n",
       "    <tr>\n",
       "      <th>2</th>\n",
       "      <td>1901</td>\n",
       "      <td>The Martyred Presidents</td>\n",
       "      <td>American</td>\n",
       "      <td>Unknown</td>\n",
       "      <td>NaN</td>\n",
       "      <td>unknown</td>\n",
       "      <td>https://en.wikipedia.org/wiki/The_Martyred_Pre...</td>\n",
       "      <td>The film, just over a minute long, is composed...</td>\n",
       "    </tr>\n",
       "    <tr>\n",
       "      <th>3</th>\n",
       "      <td>1901</td>\n",
       "      <td>Terrible Teddy, the Grizzly King</td>\n",
       "      <td>American</td>\n",
       "      <td>Unknown</td>\n",
       "      <td>NaN</td>\n",
       "      <td>unknown</td>\n",
       "      <td>https://en.wikipedia.org/wiki/Terrible_Teddy,_...</td>\n",
       "      <td>Lasting just 61 seconds and consisting of two ...</td>\n",
       "    </tr>\n",
       "    <tr>\n",
       "      <th>4</th>\n",
       "      <td>1902</td>\n",
       "      <td>Jack and the Beanstalk</td>\n",
       "      <td>American</td>\n",
       "      <td>George S. Fleming, Edwin S. Porter</td>\n",
       "      <td>NaN</td>\n",
       "      <td>unknown</td>\n",
       "      <td>https://en.wikipedia.org/wiki/Jack_and_the_Bea...</td>\n",
       "      <td>The earliest known adaptation of the classic f...</td>\n",
       "    </tr>\n",
       "  </tbody>\n",
       "</table>\n",
       "</div>"
      ],
      "text/plain": [
       "   Release Year                             Title Origin/Ethnicity  \\\n",
       "0          1901            Kansas Saloon Smashers         American   \n",
       "1          1901     Love by the Light of the Moon         American   \n",
       "2          1901           The Martyred Presidents         American   \n",
       "3          1901  Terrible Teddy, the Grizzly King         American   \n",
       "4          1902            Jack and the Beanstalk         American   \n",
       "\n",
       "                             Director Cast    Genre  \\\n",
       "0                             Unknown  NaN  unknown   \n",
       "1                             Unknown  NaN  unknown   \n",
       "2                             Unknown  NaN  unknown   \n",
       "3                             Unknown  NaN  unknown   \n",
       "4  George S. Fleming, Edwin S. Porter  NaN  unknown   \n",
       "\n",
       "                                           Wiki Page  \\\n",
       "0  https://en.wikipedia.org/wiki/Kansas_Saloon_Sm...   \n",
       "1  https://en.wikipedia.org/wiki/Love_by_the_Ligh...   \n",
       "2  https://en.wikipedia.org/wiki/The_Martyred_Pre...   \n",
       "3  https://en.wikipedia.org/wiki/Terrible_Teddy,_...   \n",
       "4  https://en.wikipedia.org/wiki/Jack_and_the_Bea...   \n",
       "\n",
       "                                                Plot  \n",
       "0  A bartender is working at a saloon, serving dr...  \n",
       "1  The moon, painted with a smiling face hangs ov...  \n",
       "2  The film, just over a minute long, is composed...  \n",
       "3  Lasting just 61 seconds and consisting of two ...  \n",
       "4  The earliest known adaptation of the classic f...  "
      ]
     },
     "execution_count": 3,
     "metadata": {},
     "output_type": "execute_result"
    }
   ],
   "source": [
    "movie_plots.head() # view data"
   ]
  },
  {
   "cell_type": "code",
   "execution_count": 4,
   "id": "d0f28885",
   "metadata": {
    "execution": {
     "iopub.execute_input": "2024-04-20T17:04:33.845556Z",
     "iopub.status.busy": "2024-04-20T17:04:33.845295Z",
     "iopub.status.idle": "2024-04-20T17:04:33.852298Z",
     "shell.execute_reply": "2024-04-20T17:04:33.851562Z"
    },
    "papermill": {
     "duration": 0.015231,
     "end_time": "2024-04-20T17:04:33.854006",
     "exception": false,
     "start_time": "2024-04-20T17:04:33.838775",
     "status": "completed"
    },
    "tags": []
   },
   "outputs": [
    {
     "data": {
      "text/plain": [
       "\"The moon, painted with a smiling face hangs over a park at night. A young couple walking past a fence learn on a railing and look up. The moon smiles. They embrace, and the moon's smile gets bigger. They then sit down on a bench by a tree. The moon's view is blocked, causing him to frown. In the last scene, the man fans the woman with his hat because the moon has left the sky and is perched over her shoulder to see everything better.\""
      ]
     },
     "execution_count": 4,
     "metadata": {},
     "output_type": "execute_result"
    }
   ],
   "source": [
    "movie_plots['Plot'][1] # view data"
   ]
  },
  {
   "cell_type": "code",
   "execution_count": 5,
   "id": "a2393a70",
   "metadata": {
    "execution": {
     "iopub.execute_input": "2024-04-20T17:04:33.866056Z",
     "iopub.status.busy": "2024-04-20T17:04:33.865799Z",
     "iopub.status.idle": "2024-04-20T17:04:33.897413Z",
     "shell.execute_reply": "2024-04-20T17:04:33.896559Z"
    },
    "papermill": {
     "duration": 0.039728,
     "end_time": "2024-04-20T17:04:33.899237",
     "exception": false,
     "start_time": "2024-04-20T17:04:33.859509",
     "status": "completed"
    },
    "tags": []
   },
   "outputs": [
    {
     "data": {
      "text/plain": [
       "36773"
      ]
     },
     "execution_count": 5,
     "metadata": {},
     "output_type": "execute_result"
    }
   ],
   "source": [
    "movie_plots['Plot'].str.len().max() # get the maximum length of string"
   ]
  },
  {
   "cell_type": "code",
   "execution_count": 6,
   "id": "a3bd913c",
   "metadata": {
    "execution": {
     "iopub.execute_input": "2024-04-20T17:04:33.911516Z",
     "iopub.status.busy": "2024-04-20T17:04:33.911263Z",
     "iopub.status.idle": "2024-04-20T17:04:33.926378Z",
     "shell.execute_reply": "2024-04-20T17:04:33.925735Z"
    },
    "papermill": {
     "duration": 0.023352,
     "end_time": "2024-04-20T17:04:33.928288",
     "exception": false,
     "start_time": "2024-04-20T17:04:33.904936",
     "status": "completed"
    },
    "tags": []
   },
   "outputs": [],
   "source": [
    "# Truncate texts to 8192 words\n",
    "\n",
    "df = movie_plots['Plot'].apply(lambda x: x[:8192]) "
   ]
  },
  {
   "cell_type": "code",
   "execution_count": 7,
   "id": "44002c57",
   "metadata": {
    "execution": {
     "iopub.execute_input": "2024-04-20T17:04:33.940908Z",
     "iopub.status.busy": "2024-04-20T17:04:33.940409Z",
     "iopub.status.idle": "2024-04-20T17:04:33.951336Z",
     "shell.execute_reply": "2024-04-20T17:04:33.950523Z"
    },
    "papermill": {
     "duration": 0.019389,
     "end_time": "2024-04-20T17:04:33.953301",
     "exception": false,
     "start_time": "2024-04-20T17:04:33.933912",
     "status": "completed"
    },
    "tags": []
   },
   "outputs": [],
   "source": [
    "# sample 10 texts from data\n",
    "\n",
    "df = df.sample(10)"
   ]
  },
  {
   "cell_type": "code",
   "execution_count": 8,
   "id": "3d73bf72",
   "metadata": {
    "execution": {
     "iopub.execute_input": "2024-04-20T17:04:33.966062Z",
     "iopub.status.busy": "2024-04-20T17:04:33.965603Z",
     "iopub.status.idle": "2024-04-20T17:05:43.742920Z",
     "shell.execute_reply": "2024-04-20T17:05:43.742044Z"
    },
    "papermill": {
     "duration": 69.786176,
     "end_time": "2024-04-20T17:05:43.745261",
     "exception": false,
     "start_time": "2024-04-20T17:04:33.959085",
     "status": "completed"
    },
    "tags": []
   },
   "outputs": [
    {
     "name": "stdout",
     "output_type": "stream",
     "text": [
      "Cloning into 'gemma_pytorch'...\r\n",
      "remote: Enumerating objects: 148, done.\u001b[K\r\n",
      "remote: Counting objects: 100% (80/80), done.\u001b[K\r\n",
      "remote: Compressing objects: 100% (55/55), done.\u001b[K\r\n",
      "remote: Total 148 (delta 46), reused 38 (delta 23), pack-reused 68\u001b[K\r\n",
      "Receiving objects: 100% (148/148), 2.16 MiB | 12.76 MiB/s, done.\r\n",
      "Resolving deltas: 100% (73/73), done.\r\n"
     ]
    },
    {
     "name": "stderr",
     "output_type": "stream",
     "text": [
      "/opt/conda/lib/python3.10/site-packages/torch/_utils.py:831: UserWarning: TypedStorage is deprecated. It will be removed in the future and UntypedStorage will be the only storage class. This should only matter to you if you are using storages directly.  To access UntypedStorage directly, use tensor.untyped_storage() instead of tensor.storage()\n",
      "  return self.fget.__get__(instance, owner)()\n"
     ]
    }
   ],
   "source": [
    "# Setup the environment\n",
    "!pip install -q -U immutabledict sentencepiece \n",
    "!git clone https://github.com/google/gemma_pytorch.git\n",
    "!mkdir /kaggle/working/gemma/\n",
    "!mv /kaggle/working/gemma_pytorch/gemma/* /kaggle/working/gemma/\n",
    "\n",
    "import sys \n",
    "sys.path.append(\"/kaggle/working/gemma_pytorch/\") \n",
    "from gemma.config import GemmaConfig, get_config_for_7b, get_config_for_2b\n",
    "from gemma.model import GemmaForCausalLM\n",
    "from gemma.tokenizer import Tokenizer\n",
    "import contextlib\n",
    "import os\n",
    "import torch\n",
    "\n",
    "# Load the model\n",
    "VARIANT = \"2b-it\" \n",
    "MACHINE_TYPE = \"cuda\" \n",
    "weights_dir = '/kaggle/input/gemma/pytorch/2b-it/2' \n",
    "\n",
    "@contextlib.contextmanager\n",
    "def _set_default_tensor_type(dtype: torch.dtype):\n",
    "  \"\"\"Sets the default torch dtype to the given dtype.\"\"\"\n",
    "  torch.set_default_dtype(dtype)\n",
    "  yield\n",
    "  torch.set_default_dtype(torch.float)\n",
    "\n",
    "model_config = get_config_for_2b() if \"2b\" in VARIANT else get_config_for_7b()\n",
    "model_config.tokenizer = os.path.join(weights_dir, \"tokenizer.model\")\n",
    "\n",
    "device = torch.device(MACHINE_TYPE)\n",
    "with _set_default_tensor_type(model_config.get_dtype()):\n",
    "  model = GemmaForCausalLM(model_config)\n",
    "  ckpt_path = os.path.join(weights_dir, f'gemma-{VARIANT}.ckpt')\n",
    "  model.load_weights(ckpt_path)\n",
    "  model = model.to(device).eval()"
   ]
  },
  {
   "cell_type": "code",
   "execution_count": 9,
   "id": "241ebf22",
   "metadata": {
    "execution": {
     "iopub.execute_input": "2024-04-20T17:05:43.761376Z",
     "iopub.status.busy": "2024-04-20T17:05:43.760968Z",
     "iopub.status.idle": "2024-04-20T17:05:43.765577Z",
     "shell.execute_reply": "2024-04-20T17:05:43.764745Z"
    },
    "papermill": {
     "duration": 0.014223,
     "end_time": "2024-04-20T17:05:43.767561",
     "exception": false,
     "start_time": "2024-04-20T17:05:43.753338",
     "status": "completed"
    },
    "tags": []
   },
   "outputs": [],
   "source": [
    "# General rewrite prompts to be used on the model\n",
    "\n",
    "rewrite_prompts = [\n",
    "    'Describe it to me like you would explain it to a five-year old',\n",
    "    'Summarize this in your own words',\n",
    "    'Write me an opinon on this topic',\n",
    "    'Write a poem about this topic',\n",
    "    'Make this rhyme'\n",
    "]"
   ]
  },
  {
   "cell_type": "code",
   "execution_count": 10,
   "id": "9ec292e9",
   "metadata": {
    "execution": {
     "iopub.execute_input": "2024-04-20T17:05:43.781562Z",
     "iopub.status.busy": "2024-04-20T17:05:43.781293Z",
     "iopub.status.idle": "2024-04-20T17:06:28.882586Z",
     "shell.execute_reply": "2024-04-20T17:06:28.881745Z"
    },
    "papermill": {
     "duration": 45.110978,
     "end_time": "2024-04-20T17:06:28.884952",
     "exception": false,
     "start_time": "2024-04-20T17:05:43.773974",
     "status": "completed"
    },
    "tags": []
   },
   "outputs": [],
   "source": [
    "# model chat template for prompting\n",
    "USER_CHAT_TEMPLATE = \"<start_of_turn>user\\n{prompt}<end_of_turn>\\n<start_of_turn>model\\n\"\n",
    "# rewritten data after prompting\n",
    "rewrite_data = []\n",
    "\n",
    "# iterate through text\n",
    "for texts in df:\n",
    "    # randomly choose rewrite prompts\n",
    "    prompt_chosen = random.choice(rewrite_prompts)\n",
    "    # structure prompt according to chat template\n",
    "    prompt = f'{prompt_chosen}\\n{texts}'\n",
    "    # generate texts using gemma and given prompt\n",
    "    chat_output = model.generate(\n",
    "        USER_CHAT_TEMPLATE.format(prompt = prompt),\n",
    "        device = device,\n",
    "        output_len = 128        \n",
    "    )\n",
    "    # append data to rewrite_data\n",
    "    rewrite_data.append({\n",
    "        'original_text': texts,\n",
    "        'rewrite_prompt': prompt_chosen,\n",
    "        'rewritten_text': chat_output,\n",
    "    })"
   ]
  },
  {
   "cell_type": "code",
   "execution_count": 11,
   "id": "c7434368",
   "metadata": {
    "execution": {
     "iopub.execute_input": "2024-04-20T17:06:28.900444Z",
     "iopub.status.busy": "2024-04-20T17:06:28.900108Z",
     "iopub.status.idle": "2024-04-20T17:06:28.907664Z",
     "shell.execute_reply": "2024-04-20T17:06:28.906874Z"
    },
    "papermill": {
     "duration": 0.017457,
     "end_time": "2024-04-20T17:06:28.909631",
     "exception": false,
     "start_time": "2024-04-20T17:06:28.892174",
     "status": "completed"
    },
    "tags": []
   },
   "outputs": [
    {
     "data": {
      "text/plain": [
       "array([\"Aditya (Ankush Hazra)portrays a young millionaire with a heart of gold. He successfully runs a business of resorts. His life is anchored by his best friend and business associate, Prachi (Sayantika Banerjee). Life is all about fun and work and girls for him until one day when his car bumps into Esha's cycle. Aditya is instantly enamored by the pretty and innocent girl who seems to have no interest in the flirty, rich bachelor. He gives in to his ego by giving Esha (Nusrat Jahan) a job in his resort even though she can't work in the second shift. As times goes by, Aditya starts sharing his deepest thoughts with Esha. She sees the simple, lovable man behind the successful persona who loves the food made by his aunt. Unwittingly, she loses her heart to this flirty man who confesses to be commitment phobic. These three characters become the best of buddies. Prachi sees the growing chemistry between these two and she keeps her love for Aditya hidden inside her. Turbulence occurs when Esha's past crops in and misleads their lives in different direction. And her past which involves Akash, her semi-dead husband. He used to love her unconditionally, which Aditya believes cannot love her exactly like him. When Aditya and Esha's relationship is hidden, Esha did not want Aditya to meet Akash at any cost. But doubt in his mind leads him to the hospital where Akash took his last breath. After a prolonged silent treatment by Esha, Aditya runs to her home. Not finding her there, he meets her in the temple and forces her to speak up. And Esha leaves with anger blaming him for Akash's death. Hopeless in love, Esha prepares for the dead ceremony. Surprisingly, her mother-in-law invites Aditya, thanking him for the peaceful dead of Akash and tells them to get married since Aditya is the only one who can love Esha unconditionally. After successfully getting married, they have a car accident.And from that incident, she suffers from a brain disease which makes her think Akash is still alive, where Aditya thinks he won to get married to the love of his life yet lost her.[3]\",\n",
       "       'Make this rhyme',\n",
       "       \"Sure, here is the rhyme you requested:\\n\\nIn the heart of the city's gleam,\\nAditya's story did seem.\\nA millionaire, kind and true,\\nWith a heart that knew only a few.\\n\\nPrachi, his best friend and guide,\\nStole his laughter, his heart to confide.\\nGirls brought him joy and delight,\\nBut they never deterred his shining light.\\n\\nEsha's smile, so bright and fair,\\nPromised happiness, beyond compare.\\nBut fate's cruel twist, a fateful day,\\nChanged forever, a different way.\\n\\nAd\"],\n",
       "      dtype=object)"
      ]
     },
     "execution_count": 11,
     "metadata": {},
     "output_type": "execute_result"
    }
   ],
   "source": [
    "# create dataframe\n",
    "rewrite_data_df = pd.DataFrame(rewrite_data)\n",
    "rewrite_data_df.iloc[1, :].values"
   ]
  },
  {
   "cell_type": "code",
   "execution_count": 12,
   "id": "a539789a",
   "metadata": {
    "execution": {
     "iopub.execute_input": "2024-04-20T17:06:28.924375Z",
     "iopub.status.busy": "2024-04-20T17:06:28.924079Z",
     "iopub.status.idle": "2024-04-20T17:06:28.938562Z",
     "shell.execute_reply": "2024-04-20T17:06:28.937651Z"
    },
    "papermill": {
     "duration": 0.024068,
     "end_time": "2024-04-20T17:06:28.940646",
     "exception": false,
     "start_time": "2024-04-20T17:06:28.916578",
     "status": "completed"
    },
    "tags": []
   },
   "outputs": [],
   "source": [
    "rewrite_data_df.to_csv('prompts.csv',index=False)"
   ]
  },
  {
   "cell_type": "markdown",
   "id": "f6ed7765",
   "metadata": {
    "papermill": {
     "duration": 0.006623,
     "end_time": "2024-04-20T17:06:28.954006",
     "exception": false,
     "start_time": "2024-04-20T17:06:28.947383",
     "status": "completed"
    },
    "tags": []
   },
   "source": [
    "## Generating Submission data"
   ]
  },
  {
   "cell_type": "code",
   "execution_count": 13,
   "id": "eb04b8be",
   "metadata": {
    "execution": {
     "iopub.execute_input": "2024-04-20T17:06:28.969386Z",
     "iopub.status.busy": "2024-04-20T17:06:28.968673Z",
     "iopub.status.idle": "2024-04-20T17:06:28.993936Z",
     "shell.execute_reply": "2024-04-20T17:06:28.993237Z"
    },
    "papermill": {
     "duration": 0.035018,
     "end_time": "2024-04-20T17:06:28.995915",
     "exception": false,
     "start_time": "2024-04-20T17:06:28.960897",
     "status": "completed"
    },
    "tags": []
   },
   "outputs": [],
   "source": [
    "# load in train and test data\n",
    "\n",
    "train = pd.read_csv('/kaggle/input/llm-prompt-recovery/train.csv')\n",
    "test = pd.read_csv('/kaggle/input/llm-prompt-recovery/test.csv')"
   ]
  },
  {
   "cell_type": "code",
   "execution_count": 14,
   "id": "4469aae7",
   "metadata": {
    "execution": {
     "iopub.execute_input": "2024-04-20T17:06:29.010660Z",
     "iopub.status.busy": "2024-04-20T17:06:29.010406Z",
     "iopub.status.idle": "2024-04-20T17:06:29.016076Z",
     "shell.execute_reply": "2024-04-20T17:06:29.015320Z"
    },
    "papermill": {
     "duration": 0.015077,
     "end_time": "2024-04-20T17:06:29.017869",
     "exception": false,
     "start_time": "2024-04-20T17:06:29.002792",
     "status": "completed"
    },
    "tags": []
   },
   "outputs": [],
   "source": [
    "# define rewrite prompt\n",
    "\n",
    "test['rewrite_prompt'] = \"Generate rewrite_prompt for the following text while retaining the original meaning but altering the tone. Aim for a different structure and wording. Here is an example sample: original text- \" + train.loc[0, 'original_text'] +\" rewritten_text- \" + train.loc[0, 'rewritten_text'] + \" and this is the right rewrite_prompt- \" + train.loc[0, 'rewrite_prompt'] + \" Now, You will output in text the most suitable rewrite_prompt.\""
   ]
  },
  {
   "cell_type": "code",
   "execution_count": 15,
   "id": "487024ec",
   "metadata": {
    "execution": {
     "iopub.execute_input": "2024-04-20T17:06:29.033068Z",
     "iopub.status.busy": "2024-04-20T17:06:29.032796Z",
     "iopub.status.idle": "2024-04-20T17:06:29.037554Z",
     "shell.execute_reply": "2024-04-20T17:06:29.036545Z"
    },
    "papermill": {
     "duration": 0.014401,
     "end_time": "2024-04-20T17:06:29.039507",
     "exception": false,
     "start_time": "2024-04-20T17:06:29.025106",
     "status": "completed"
    },
    "tags": []
   },
   "outputs": [
    {
     "name": "stdout",
     "output_type": "stream",
     "text": [
      "Generate rewrite_prompt for the following text while retaining the original meaning but altering the tone. Aim for a different structure and wording. Here is an example sample: original text- The competition dataset comprises text passages that have been rewritten by the Gemma LLM according to some rewrite_prompt instruction. The goal of the competition is to determine what prompt was used to rewrite each original text.  Please note that this is a Code Competition. When your submission is scored, this example test data will be replaced with the full test set. Expect roughly 2,000 original texts in the test set. rewritten_text- Here is your shanty: (Verse 1) The text is rewritten, the LLM has spun, With prompts so clever, they've been outrun. The goal is to find, the prompt so bright, To crack the code, and shine the light. (Chorus) Oh, this is a code competition, my dear, With text and prompts, we'll compete. Two thousand texts, a challenge grand, To guess the prompts, hand over hand.(Verse 2) The original text, a treasure lost, The rewrite prompt, a secret to be and this is the right rewrite_prompt- Convert this into a sea shanty: \"\"\"The competition dataset comprises text passages that have been rewritten by the Gemma LLM according to some rewrite_prompt instruction. The goal of the competition is to determine what prompt was used to rewrite each original text.  Please note that this is a Code Competition. When your submission is scored, this example test data will be replaced with the full test set. Expect roughly 2,000 original texts in the test set.\"\"\" Now, You will output in text the most suitable rewrite_prompt.\n"
     ]
    }
   ],
   "source": [
    "print(test['rewrite_prompt'][0])"
   ]
  },
  {
   "cell_type": "code",
   "execution_count": 16,
   "id": "0b61cf42",
   "metadata": {
    "execution": {
     "iopub.execute_input": "2024-04-20T17:06:29.054543Z",
     "iopub.status.busy": "2024-04-20T17:06:29.054308Z",
     "iopub.status.idle": "2024-04-20T17:06:29.061915Z",
     "shell.execute_reply": "2024-04-20T17:06:29.061228Z"
    },
    "papermill": {
     "duration": 0.01726,
     "end_time": "2024-04-20T17:06:29.063840",
     "exception": false,
     "start_time": "2024-04-20T17:06:29.046580",
     "status": "completed"
    },
    "tags": []
   },
   "outputs": [],
   "source": [
    "test = test[['id', 'rewrite_prompt']]"
   ]
  },
  {
   "cell_type": "code",
   "execution_count": 17,
   "id": "d79fe83b",
   "metadata": {
    "execution": {
     "iopub.execute_input": "2024-04-20T17:06:29.078977Z",
     "iopub.status.busy": "2024-04-20T17:06:29.078663Z",
     "iopub.status.idle": "2024-04-20T17:06:29.089673Z",
     "shell.execute_reply": "2024-04-20T17:06:29.088864Z"
    },
    "papermill": {
     "duration": 0.020614,
     "end_time": "2024-04-20T17:06:29.091611",
     "exception": false,
     "start_time": "2024-04-20T17:06:29.070997",
     "status": "completed"
    },
    "tags": []
   },
   "outputs": [
    {
     "data": {
      "text/html": [
       "<div>\n",
       "<style scoped>\n",
       "    .dataframe tbody tr th:only-of-type {\n",
       "        vertical-align: middle;\n",
       "    }\n",
       "\n",
       "    .dataframe tbody tr th {\n",
       "        vertical-align: top;\n",
       "    }\n",
       "\n",
       "    .dataframe thead th {\n",
       "        text-align: right;\n",
       "    }\n",
       "</style>\n",
       "<table border=\"1\" class=\"dataframe\">\n",
       "  <thead>\n",
       "    <tr style=\"text-align: right;\">\n",
       "      <th></th>\n",
       "      <th>id</th>\n",
       "      <th>rewrite_prompt</th>\n",
       "    </tr>\n",
       "  </thead>\n",
       "  <tbody>\n",
       "    <tr>\n",
       "      <th>0</th>\n",
       "      <td>-1</td>\n",
       "      <td>Generate rewrite_prompt for the following text...</td>\n",
       "    </tr>\n",
       "  </tbody>\n",
       "</table>\n",
       "</div>"
      ],
      "text/plain": [
       "   id                                     rewrite_prompt\n",
       "0  -1  Generate rewrite_prompt for the following text..."
      ]
     },
     "execution_count": 17,
     "metadata": {},
     "output_type": "execute_result"
    }
   ],
   "source": [
    "# make submission file\n",
    "\n",
    "test.to_csv('submission.csv', index=False)\n",
    "sub = pd.read_csv(\"/kaggle/working/submission.csv\")\n",
    "sub"
   ]
  }
 ],
 "metadata": {
  "kaggle": {
   "accelerator": "nvidiaTeslaT4",
   "dataSources": [
    {
     "databundleVersionId": 7806901,
     "sourceId": 67121,
     "sourceType": "competition"
    },
    {
     "datasetId": 64890,
     "sourceId": 127736,
     "sourceType": "datasetVersion"
    },
    {
     "datasetId": 4403839,
     "sourceId": 7563141,
     "sourceType": "datasetVersion"
    },
    {
     "isSourceIdPinned": true,
     "modelInstanceId": 5383,
     "sourceId": 11358,
     "sourceType": "modelInstanceVersion"
    }
   ],
   "dockerImageVersionId": 30673,
   "isGpuEnabled": true,
   "isInternetEnabled": true,
   "language": "python",
   "sourceType": "notebook"
  },
  "kernelspec": {
   "display_name": "Python 3",
   "language": "python",
   "name": "python3"
  },
  "language_info": {
   "codemirror_mode": {
    "name": "ipython",
    "version": 3
   },
   "file_extension": ".py",
   "mimetype": "text/x-python",
   "name": "python",
   "nbconvert_exporter": "python",
   "pygments_lexer": "ipython3",
   "version": "3.10.13"
  },
  "papermill": {
   "default_parameters": {},
   "duration": 124.770177,
   "end_time": "2024-04-20T17:06:31.647560",
   "environment_variables": {},
   "exception": null,
   "input_path": "__notebook__.ipynb",
   "output_path": "__notebook__.ipynb",
   "parameters": {},
   "start_time": "2024-04-20T17:04:26.877383",
   "version": "2.5.0"
  }
 },
 "nbformat": 4,
 "nbformat_minor": 5
}
